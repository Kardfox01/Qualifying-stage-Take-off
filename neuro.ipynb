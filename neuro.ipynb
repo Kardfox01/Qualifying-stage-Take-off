{
 "cells": [
  {
   "cell_type": "code",
   "execution_count": 3,
   "metadata": {},
   "outputs": [
    {
     "name": "stdout",
     "output_type": "stream",
     "text": [
      "WARNING:tensorflow:From c:\\Users\\Kardfox\\AppData\\Local\\Programs\\Python\\Python311\\Lib\\site-packages\\keras\\src\\losses.py:2976: The name tf.losses.sparse_softmax_cross_entropy is deprecated. Please use tf.compat.v1.losses.sparse_softmax_cross_entropy instead.\n",
      "\n"
     ]
    }
   ],
   "source": [
    "from keras.models import Sequential\n",
    "from keras.layers import Conv2D, MaxPooling2D, BatchNormalization, Dropout, Flatten, Dense\n",
    "from keras.datasets import mnist\n",
    "from keras.utils import to_categorical"
   ]
  },
  {
   "cell_type": "code",
   "execution_count": 184,
   "metadata": {},
   "outputs": [],
   "source": [
    "num_classes = 10\n",
    "epochs = 30\n",
    "height = width = 28\n",
    "\n",
    "(train_x, train_y), (test_x, test_y) = mnist.load_data()\n",
    "\n",
    "train_x = train_x / 255.0\n",
    "test_x = test_x / 255.0\n",
    "\n",
    "train_y = to_categorical(train_y, num_classes, dtype=\"float64\")\n",
    "test_y = to_categorical(test_y, num_classes, dtype=\"float64\")\n",
    "\n",
    "train_x = train_x.reshape(train_x.shape[0], height, width, 1)\n",
    "test_x = test_x.reshape(test_x.shape[0], height, width, 1)\n",
    "\n",
    "input_shape = (height, width, 1)"
   ]
  },
  {
   "cell_type": "code",
   "execution_count": 178,
   "metadata": {},
   "outputs": [],
   "source": [
    "model = Sequential([\n",
    "    Conv2D(32, kernel_size=3, activation=\"relu\", input_shape=input_shape),\n",
    "    MaxPooling2D(),\n",
    "    Conv2D(32, kernel_size=3, activation=\"relu\"),\n",
    "    BatchNormalization(),\n",
    "    Conv2D(32, kernel_size=5, strides=2, padding=\"same\", activation=\"relu\"),\n",
    "    BatchNormalization(),\n",
    "    Dropout(0.4),\n",
    "    Conv2D(64, kernel_size=3, activation=\"relu\"),\n",
    "    BatchNormalization(),\n",
    "    Conv2D(64, kernel_size=3, activation=\"relu\"),\n",
    "    BatchNormalization(),\n",
    "    Conv2D(64, kernel_size=5, strides=2, padding=\"same\", activation=\"relu\"),\n",
    "    BatchNormalization(),\n",
    "    Dropout(0.4),\n",
    "    Flatten(),\n",
    "    Dropout(0.4),\n",
    "    Dense(10, activation=\"softmax\")\n",
    "])"
   ]
  },
  {
   "cell_type": "code",
   "execution_count": 181,
   "metadata": {},
   "outputs": [],
   "source": [
    "model.compile(\n",
    "    loss=\"sparse_categorical_crossentropy\",\n",
    "    optimizer=\"adam\",\n",
    "    metrics=(\"accuracy\",)\n",
    ")"
   ]
  },
  {
   "cell_type": "code",
   "execution_count": 182,
   "metadata": {},
   "outputs": [
    {
     "name": "stdout",
     "output_type": "stream",
     "text": [
      "Epoch 1/30\n",
      "1875/1875 [==============================] - 59s 30ms/step - loss: 0.2998 - accuracy: 0.9142 - val_loss: 0.0497 - val_accuracy: 0.9844\n",
      "Epoch 2/30\n",
      "1875/1875 [==============================] - 43s 23ms/step - loss: 0.1079 - accuracy: 0.9710 - val_loss: 0.0432 - val_accuracy: 0.9864\n",
      "Epoch 3/30\n",
      "1875/1875 [==============================] - 39s 21ms/step - loss: 0.0793 - accuracy: 0.9787 - val_loss: 0.0502 - val_accuracy: 0.9853\n",
      "Epoch 4/30\n",
      "1875/1875 [==============================] - 36s 19ms/step - loss: 0.0681 - accuracy: 0.9823 - val_loss: 0.0292 - val_accuracy: 0.9909\n",
      "Epoch 5/30\n",
      "1875/1875 [==============================] - 35s 19ms/step - loss: 0.0614 - accuracy: 0.9836 - val_loss: 0.0397 - val_accuracy: 0.9879\n",
      "Epoch 6/30\n",
      "1875/1875 [==============================] - 39s 21ms/step - loss: 0.0528 - accuracy: 0.9860 - val_loss: 0.0284 - val_accuracy: 0.9916\n",
      "Epoch 7/30\n",
      "1875/1875 [==============================] - 34s 18ms/step - loss: 0.0452 - accuracy: 0.9876 - val_loss: 0.0274 - val_accuracy: 0.9931\n",
      "Epoch 8/30\n",
      "1875/1875 [==============================] - 37s 20ms/step - loss: 0.0421 - accuracy: 0.9888 - val_loss: 0.0286 - val_accuracy: 0.9926\n",
      "Epoch 9/30\n",
      "1875/1875 [==============================] - 46s 25ms/step - loss: 0.0371 - accuracy: 0.9904 - val_loss: 0.0274 - val_accuracy: 0.9924\n",
      "Epoch 10/30\n",
      "1875/1875 [==============================] - 41s 22ms/step - loss: 0.0386 - accuracy: 0.9896 - val_loss: 0.0261 - val_accuracy: 0.9923\n",
      "Epoch 11/30\n",
      "1875/1875 [==============================] - 44s 24ms/step - loss: 0.0342 - accuracy: 0.9909 - val_loss: 0.0319 - val_accuracy: 0.9907\n",
      "Epoch 12/30\n",
      "1875/1875 [==============================] - 43s 23ms/step - loss: 0.0318 - accuracy: 0.9912 - val_loss: 0.0271 - val_accuracy: 0.9931\n",
      "Epoch 13/30\n",
      "1875/1875 [==============================] - 45s 24ms/step - loss: 0.0287 - accuracy: 0.9922 - val_loss: 0.0252 - val_accuracy: 0.9929\n",
      "Epoch 14/30\n",
      "1875/1875 [==============================] - 42s 23ms/step - loss: 0.0270 - accuracy: 0.9926 - val_loss: 0.0204 - val_accuracy: 0.9948\n",
      "Epoch 15/30\n",
      "1875/1875 [==============================] - 35s 19ms/step - loss: 0.0257 - accuracy: 0.9930 - val_loss: 0.0220 - val_accuracy: 0.9950\n",
      "Epoch 16/30\n",
      "1875/1875 [==============================] - 32s 17ms/step - loss: 0.0247 - accuracy: 0.9932 - val_loss: 0.0252 - val_accuracy: 0.9936\n",
      "Epoch 17/30\n",
      "1875/1875 [==============================] - 32s 17ms/step - loss: 0.0242 - accuracy: 0.9937 - val_loss: 0.0248 - val_accuracy: 0.9937\n",
      "Epoch 18/30\n",
      "1875/1875 [==============================] - 32s 17ms/step - loss: 0.0238 - accuracy: 0.9936 - val_loss: 0.0208 - val_accuracy: 0.9949\n",
      "Epoch 19/30\n",
      "1875/1875 [==============================] - 32s 17ms/step - loss: 0.0217 - accuracy: 0.9941 - val_loss: 0.0233 - val_accuracy: 0.9937\n",
      "Epoch 20/30\n",
      "1875/1875 [==============================] - 32s 17ms/step - loss: 0.0206 - accuracy: 0.9948 - val_loss: 0.0270 - val_accuracy: 0.9938\n",
      "Epoch 21/30\n",
      "1875/1875 [==============================] - 32s 17ms/step - loss: 0.0213 - accuracy: 0.9942 - val_loss: 0.0282 - val_accuracy: 0.9929\n",
      "Epoch 22/30\n",
      "1875/1875 [==============================] - 32s 17ms/step - loss: 0.0180 - accuracy: 0.9948 - val_loss: 0.0243 - val_accuracy: 0.9940\n",
      "Epoch 23/30\n",
      "1875/1875 [==============================] - 32s 17ms/step - loss: 0.0173 - accuracy: 0.9949 - val_loss: 0.0272 - val_accuracy: 0.9939\n",
      "Epoch 24/30\n",
      "1875/1875 [==============================] - 34s 18ms/step - loss: 0.0178 - accuracy: 0.9951 - val_loss: 0.0310 - val_accuracy: 0.9929\n",
      "Epoch 25/30\n",
      "1875/1875 [==============================] - 32s 17ms/step - loss: 0.0175 - accuracy: 0.9951 - val_loss: 0.0263 - val_accuracy: 0.9940\n",
      "Epoch 26/30\n",
      "1875/1875 [==============================] - 32s 17ms/step - loss: 0.0178 - accuracy: 0.9952 - val_loss: 0.0233 - val_accuracy: 0.9945\n",
      "Epoch 27/30\n",
      "1875/1875 [==============================] - 32s 17ms/step - loss: 0.0154 - accuracy: 0.9959 - val_loss: 0.0286 - val_accuracy: 0.9937\n",
      "Epoch 28/30\n",
      "1875/1875 [==============================] - 32s 17ms/step - loss: 0.0157 - accuracy: 0.9956 - val_loss: 0.0270 - val_accuracy: 0.9936\n",
      "Epoch 29/30\n",
      "1875/1875 [==============================] - 32s 17ms/step - loss: 0.0133 - accuracy: 0.9962 - val_loss: 0.0346 - val_accuracy: 0.9925\n",
      "Epoch 30/30\n",
      "1875/1875 [==============================] - 32s 17ms/step - loss: 0.0147 - accuracy: 0.9958 - val_loss: 0.0291 - val_accuracy: 0.9941\n"
     ]
    },
    {
     "data": {
      "text/plain": [
       "<keras.src.callbacks.History at 0x2298f379550>"
      ]
     },
     "execution_count": 182,
     "metadata": {},
     "output_type": "execute_result"
    }
   ],
   "source": [
    "model.fit(\n",
    "    train_x,\n",
    "    train_y,\n",
    "    epochs=epochs,\n",
    "    validation_data=(test_x, test_y)\n",
    ")"
   ]
  },
  {
   "cell_type": "code",
   "execution_count": 183,
   "metadata": {},
   "outputs": [
    {
     "name": "stdout",
     "output_type": "stream",
     "text": [
      "INFO:tensorflow:Assets written to: .model\\assets\n"
     ]
    },
    {
     "name": "stderr",
     "output_type": "stream",
     "text": [
      "INFO:tensorflow:Assets written to: .model\\assets\n"
     ]
    }
   ],
   "source": [
    "model.save(\".model\")"
   ]
  }
 ],
 "metadata": {
  "language_info": {
   "name": "python"
  },
  "orig_nbformat": 4
 },
 "nbformat": 4,
 "nbformat_minor": 2
}
