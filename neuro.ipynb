{
 "cells": [
  {
   "cell_type": "code",
   "execution_count": 3,
   "metadata": {},
   "outputs": [
    {
     "name": "stdout",
     "output_type": "stream",
     "text": []
    }
   ],
   "source": [
    "from keras.models import Sequential\n",
    "from keras.layers import Conv2D, MaxPooling2D, BatchNormalization, Dropout, Flatten, Dense\n",
    "from keras.datasets import mnist\n",
    "from keras.utils import to_categorical"
   ]
  },
  {
   "cell_type": "code",
   "execution_count": 184,
   "metadata": {},
   "outputs": [],
   "source": [
    "num_classes = 10\n",
    "epochs = 30\n",
    "height = width = 28\n",
    "\n",
    "(train_x, train_y), (test_x, test_y) = mnist.load_data()\n",
    "\n",
    "train_x = train_x / 255.0\n",
    "test_x = test_x / 255.0\n",
    "\n",
    "train_y = to_categorical(train_y, num_classes, dtype=\"float64\")\n",
    "test_y = to_categorical(test_y, num_classes, dtype=\"float64\")\n",
    "\n",
    "train_x = train_x.reshape(train_x.shape[0], height, width, 1)\n",
    "test_x = test_x.reshape(test_x.shape[0], height, width, 1)\n",
    "\n",
    "input_shape = (height, width, 1)"
   ]
  },
  {
   "cell_type": "code",
   "execution_count": 178,
   "metadata": {},
   "outputs": [],
   "source": [
    "model = Sequential([\n",
    "    Conv2D(32, kernel_size=3, activation=\"relu\", input_shape=input_shape),\n",
    "    MaxPooling2D(),\n",
    "    Conv2D(32, kernel_size=3, activation=\"relu\"),\n",
    "    BatchNormalization(),\n",
    "    Conv2D(32, kernel_size=5, strides=2, padding=\"same\", activation=\"relu\"),\n",
    "    BatchNormalization(),\n",
    "    Dropout(0.4),\n",
    "    Conv2D(64, kernel_size=3, activation=\"relu\"),\n",
    "    BatchNormalization(),\n",
    "    Conv2D(64, kernel_size=3, activation=\"relu\"),\n",
    "    BatchNormalization(),\n",
    "    Conv2D(64, kernel_size=5, strides=2, padding=\"same\", activation=\"relu\"),\n",
    "    BatchNormalization(),\n",
    "    Dropout(0.4),\n",
    "    Flatten(),\n",
    "    Dropout(0.4),\n",
    "    Dense(10, activation=\"softmax\")\n",
    "])"
   ]
  },
  {
   "cell_type": "code",
   "execution_count": 181,
   "metadata": {},
   "outputs": [],
   "source": [
    "model.compile(\n",
    "    loss=\"sparse_categorical_crossentropy\",\n",
    "    optimizer=\"adam\",\n",
    "    metrics=(\"accuracy\",)\n",
    ")"
   ]
  },
  {
   "cell_type": "code",
   "execution_count": 182,
   "metadata": {},
   "outputs": [
    {
     "name": "stdout",
     "output_type": "stream",
     "text": []
    },
    {
     "data": {
      "text/plain": []
     },
     "execution_count": 182,
     "metadata": {},
     "output_type": "execute_result"
    }
   ],
   "source": [
    "model.fit(\n",
    "    train_x,\n",
    "    train_y,\n",
    "    epochs=epochs,\n",
    "    validation_data=(test_x, test_y)\n",
    ")"
   ]
  },
  {
   "cell_type": "code",
   "execution_count": 183,
   "metadata": {},
   "outputs": [
    {
     "name": "stdout",
     "output_type": "stream",
     "text": []
    },
    {
     "name": "stderr",
     "output_type": "stream",
     "text": []
    }
   ],
   "source": [
    "model.save(\".model\")"
   ]
  }
 ],
 "metadata": {
  "language_info": {
   "name": "python"
  },
  "orig_nbformat": 4
 },
 "nbformat": 4,
 "nbformat_minor": 2
}
